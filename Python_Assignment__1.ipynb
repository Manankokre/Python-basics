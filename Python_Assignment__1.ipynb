{
  "nbformat": 4,
  "nbformat_minor": 0,
  "metadata": {
    "colab": {
      "provenance": []
    },
    "kernelspec": {
      "name": "python3",
      "display_name": "Python 3"
    },
    "language_info": {
      "name": "python"
    }
  },
  "cells": [
    {
      "cell_type": "markdown",
      "source": [
        "# **Python Basic Assignment 1**"
      ],
      "metadata": {
        "id": "SPUkNZ8u0sGL"
      }
    },
    {
      "cell_type": "markdown",
      "source": [
        "# Theoretical questions"
      ],
      "metadata": {
        "id": "9Vy9BrYH9re6"
      }
    },
    {
      "cell_type": "markdown",
      "source": [
        "1. What is Python, and why is it popular?\n",
        "   - Python is a high-level programming language that is easy to read and write. It's popular because it's simple for beginners, yet powerful for tasks like data analysis, machine learning, and web development.\n",
        "2. What is an interpreter in Python?\n",
        "   - An interpreter is a program that runs Python code line by line. So when I write Python code, the interpreter reads each line, understands it, and runs it.\n",
        "3. What are pre-defined keywords in Python?\n",
        "   - Keywords are special words that Python already understands. They have specific meanings, like if, for, while, def, True, None, etc. I can’t use them for other things.\n",
        "4. Can keywords be used as variable names?\n",
        "   - No, keywords cannot be used as variable names.\n",
        "5. What is mutability in Python?\n",
        "   - Mutability means whether an object can be changed after it's created. If it's mutable, I can update its values. If it's immutable, I can't change it.\n",
        "6. Why are lists mutable, but tuples are immutable?\n",
        "   - Lists are meant to store data that can change, so Python allows us to modify them. Tuples are used when the data should stay the same, so Python makes them immutable to protect the values.\n",
        "7. What is the difference between “==” and “is” operators in Python?\n",
        "   - \"==\" checks if values are equal. \"is\" checks if two things are the same object in memory.\n",
        "8. What are logical operators in Python?\n",
        "   - Logical operators combine conditions:\n",
        "      - \"and\" both conditions must be True,\n",
        "      - \"or\" at least one condition must be True,\n",
        "      - \"not\" reverses the condition.\n",
        "9. What is type casting in Python?\n",
        "   - Type casting means converting a value from one data type to another.\n",
        "10. What is the difference between implicit and explicit type casting?\n",
        "    - \"Implicit\" casting\tDone automatically by Python, \"Explicit\" casting\tDone by the programmer using functions.\n",
        "11. What is the purpose of conditional statements in Python?\n",
        "    - Conditional statements let programs make decisions based on conditions.\n",
        "12. How does the elif statement work?\n",
        "    - elif means \"else if\". It lets us check multiple conditions after the initial if.\n",
        "13. What is the difference between for and while loops?\n",
        "    - for\tRepeats a fixed number of times\tWhen you know how many times, while\tRepeats while a condition is true\tWhen you don't know how many times.\n",
        "14. Describe a scenario where a while loop is more suitable than a for loop\n",
        "    - Asking the user to enter the correct password.\n",
        "      password = \"\"\n",
        "      while password != \"abc123\":\n",
        "          password = input(\"Enter password: \")\n",
        "      print(\"Access granted\")\n",
        "      Here, we don't know how many times the user will enter the wrong password, so a while loop is better."
      ],
      "metadata": {
        "id": "PNd1IIL81Kys"
      }
    },
    {
      "cell_type": "code",
      "source": [
        "# Practical Questions :\n",
        "# 1. Write a Python program to print \"Hello, World!\"\n",
        "print(\"Hello, World!\")"
      ],
      "metadata": {
        "id": "7OOOMNjr9eI4",
        "colab": {
          "base_uri": "https://localhost:8080/"
        },
        "outputId": "0a1c62e6-4b9d-44e9-8acb-deb682cc435c"
      },
      "execution_count": 1,
      "outputs": [
        {
          "output_type": "stream",
          "name": "stdout",
          "text": [
            "Hello, World!\n"
          ]
        }
      ]
    },
    {
      "cell_type": "code",
      "source": [
        "# 2. Write a Python program that displays your name and age.\n",
        "print(\"Manan Kokre\")\n",
        "print(21)"
      ],
      "metadata": {
        "colab": {
          "base_uri": "https://localhost:8080/"
        },
        "id": "vvotU4M06h3C",
        "outputId": "4170a3ab-3a2b-43a8-e480-3c219a26d906"
      },
      "execution_count": 7,
      "outputs": [
        {
          "output_type": "stream",
          "name": "stdout",
          "text": [
            "Manan Kokre\n",
            "21\n"
          ]
        }
      ]
    },
    {
      "cell_type": "code",
      "source": [
        "# 3. Write code to print all the pre-defined keywords in Python using the keyword library.\n",
        "import keyword\n",
        "\n",
        "keywords = keyword.kwlist\n",
        "\n",
        "print(f\"Total number of Python keywords: {len(keywords)}\\n\")\n",
        "print(\"List of Python keywords:\")\n",
        "for i in keywords:\n",
        "    print(i)"
      ],
      "metadata": {
        "colab": {
          "base_uri": "https://localhost:8080/"
        },
        "id": "AjNMzm0C7Zcp",
        "outputId": "4caed168-51ca-4c94-9dfb-5fbd91c21e50"
      },
      "execution_count": 8,
      "outputs": [
        {
          "output_type": "stream",
          "name": "stdout",
          "text": [
            "Total number of Python keywords: 35\n",
            "\n",
            "List of Python keywords:\n",
            "False\n",
            "None\n",
            "True\n",
            "and\n",
            "as\n",
            "assert\n",
            "async\n",
            "await\n",
            "break\n",
            "class\n",
            "continue\n",
            "def\n",
            "del\n",
            "elif\n",
            "else\n",
            "except\n",
            "finally\n",
            "for\n",
            "from\n",
            "global\n",
            "if\n",
            "import\n",
            "in\n",
            "is\n",
            "lambda\n",
            "nonlocal\n",
            "not\n",
            "or\n",
            "pass\n",
            "raise\n",
            "return\n",
            "try\n",
            "while\n",
            "with\n",
            "yield\n"
          ]
        }
      ]
    },
    {
      "cell_type": "code",
      "source": [
        "# 4. Write a program that checks if a given word is a Python keyword.\n",
        "import keyword\n",
        "\n",
        "word = input(\"Enter a word to check if it's a Python keyword: \")\n",
        "\n",
        "if keyword.iskeyword(word):\n",
        "    print(f\"'{word}' is a Python keyword.\")\n",
        "else:\n",
        "    print(f\"'{word}' is NOT a Python keyword.\")"
      ],
      "metadata": {
        "colab": {
          "base_uri": "https://localhost:8080/"
        },
        "id": "HdUTqfD38bYe",
        "outputId": "f9c6b810-d4c2-4881-dfb5-7aad55dc95b3"
      },
      "execution_count": 13,
      "outputs": [
        {
          "output_type": "stream",
          "name": "stdout",
          "text": [
            "Enter a word to check if it's a Python keyword: from\n",
            "'from' is a Python keyword.\n",
            "Enter a word to check if it's a Python keyword: then\n",
            "'then' is NOT a Python keyword.\n"
          ]
        }
      ]
    },
    {
      "cell_type": "code",
      "source": [
        "# 5.  Create a list and tuple in Python, and demonstrate how attempting to change an element works differently for each.\n",
        "list1 = [1,2,3]\n",
        "print(\"original List: \", list1)\n",
        "list1[0] = 10\n",
        "print(\"Modified List: \",list1)\n",
        "tuple1 = (1,2,3)\n",
        "print(\"original tuple: \", tuple1)\n",
        "try:\n",
        "  tuple1[0] = 10\n",
        "except TypeError as t:\n",
        "  print(\"Error when modifying tuple: \", t)"
      ],
      "metadata": {
        "colab": {
          "base_uri": "https://localhost:8080/"
        },
        "id": "ydKPZRCF9hSA",
        "outputId": "cb1433c0-539d-4883-a6b9-1e60967e8d26"
      },
      "execution_count": 14,
      "outputs": [
        {
          "output_type": "stream",
          "name": "stdout",
          "text": [
            "original List:  [1, 2, 3]\n",
            "Modified List:  [10, 2, 3]\n",
            "original tuple:  (1, 2, 3)\n",
            "Error when modifying tuple:  'tuple' object does not support item assignment\n"
          ]
        }
      ]
    },
    {
      "cell_type": "code",
      "source": [
        "# 6. Write a function to demonstrate the behavior of mutable and immutable arguments.\n",
        "def modify_arguments(immutable_arg, mutable_arg):\n",
        "    print(\"Inside function before modification:\")\n",
        "    print(\"immutable_arg:\", immutable_arg)\n",
        "    print(\"mutable_arg:\", mutable_arg)\n",
        "\n",
        "    immutable_arg += 10\n",
        "\n",
        "    mutable_arg.append(4)\n",
        "\n",
        "    print(\"Inside function after modification:\")\n",
        "    print(\"immutable_arg:\", immutable_arg)\n",
        "    print(\"mutable_arg:\", mutable_arg)\n",
        "\n",
        "x = 5\n",
        "\n",
        "y = [1, 2, 3]\n",
        "\n",
        "print(\"Before function call:\")\n",
        "print(\"x:\", x)\n",
        "print(\"y:\", y)\n",
        "\n",
        "modify_arguments(x, y)\n",
        "\n",
        "print(\"\\nAfter function call:\")\n",
        "print(\"x:\", x)\n",
        "print(\"y:\", y)"
      ],
      "metadata": {
        "id": "oPRJ3eEV_rKn",
        "outputId": "38851b7c-919f-4415-8a21-eba3391736e8",
        "colab": {
          "base_uri": "https://localhost:8080/"
        }
      },
      "execution_count": 15,
      "outputs": [
        {
          "output_type": "stream",
          "name": "stdout",
          "text": [
            "Before function call:\n",
            "x: 5\n",
            "y: [1, 2, 3]\n",
            "Inside function before modification:\n",
            "immutable_arg: 5\n",
            "mutable_arg: [1, 2, 3]\n",
            "Inside function after modification:\n",
            "immutable_arg: 15\n",
            "mutable_arg: [1, 2, 3, 4]\n",
            "\n",
            "After function call:\n",
            "x: 5\n",
            "y: [1, 2, 3, 4]\n"
          ]
        }
      ]
    },
    {
      "cell_type": "code",
      "source": [
        "# 7.  Write a program that performs basic arithmetic operations on two user-input numbers.\n",
        "num1 = int(input(\"Enter the firt number = \"))\n",
        "num2 = int(input(\"Enter the seconde number = \"))\n",
        "print(\"\\nArithmetic Operations Results:\")\n",
        "print(f\"{num1} + {num2} = {num1 + num2}\")\n",
        "print(f\"{num1} - {num2} = {num1 - num2}\")\n",
        "print(f\"{num1} * {num2} = {num1 * num2}\")\n",
        "\n",
        "if num2 != 0:\n",
        "    print(f\"{num1} / {num2} = {num1 / num2}\")\n",
        "    print(f\"{num1} % {num2} = {num1 % num2}\")\n",
        "else:\n",
        "    print(\"Division and modulus by zero are not allowed.\")"
      ],
      "metadata": {
        "id": "885xZzMKBFyi",
        "outputId": "7d24bd26-454b-4fc3-bd61-b0d9c6923a64",
        "colab": {
          "base_uri": "https://localhost:8080/"
        }
      },
      "execution_count": 16,
      "outputs": [
        {
          "output_type": "stream",
          "name": "stdout",
          "text": [
            "Enter the firt number = 5\n",
            "Enter the seconde number = 2\n",
            "\n",
            "Arithmetic Operations Results:\n",
            "5 + 2 = 7\n",
            "5 - 2 = 3\n",
            "5 * 2 = 10\n",
            "5 / 2 = 2.5\n",
            "5 % 2 = 1\n"
          ]
        }
      ]
    },
    {
      "cell_type": "code",
      "source": [
        "# 8. Write a program to demonstrate the use of logical operators.\n",
        "a = bool(int(input(\"Enter first boolean value (1 for True, 0 for False): \")))\n",
        "b = bool(int(input(\"Enter second boolean value (1 for True, 0 for False): \")))\n",
        "\n",
        "print(\"\\nLogical Operators Demonstration:\")\n",
        "\n",
        "print(f\"{a} and {b} = {a and b}\")\n",
        "\n",
        "print(f\"{a} or {b} = {a or b}\")\n",
        "\n",
        "print(f\"not {a} = {not a}\")\n",
        "print(f\"not {b} = {not b}\")"
      ],
      "metadata": {
        "id": "xSlPmr8BChKZ",
        "outputId": "e5dfdb47-f1db-4c87-8146-9b9b7bd7face",
        "colab": {
          "base_uri": "https://localhost:8080/"
        }
      },
      "execution_count": 17,
      "outputs": [
        {
          "output_type": "stream",
          "name": "stdout",
          "text": [
            "Enter first boolean value (1 for True, 0 for False): 1\n",
            "Enter second boolean value (1 for True, 0 for False): 0\n",
            "\n",
            "Logical Operators Demonstration:\n",
            "True and False = False\n",
            "True or False = True\n",
            "not True = False\n",
            "not False = True\n"
          ]
        }
      ]
    },
    {
      "cell_type": "code",
      "source": [
        "# 9. Write a Python program to convert user input from string to integer, float, and boolean types.\n",
        "a = input(\"Enter a value: \")\n",
        "\n",
        "print(\"\\nType Conversion Results:\")\n",
        "\n",
        "try:\n",
        "    int_value = int(a)\n",
        "    print(f\"Integer conversion: {int_value}\")\n",
        "except ValueError:\n",
        "    print(\"Integer conversion: Failed (invalid input)\")\n",
        "\n",
        "try:\n",
        "    float_value = float(a)\n",
        "    print(f\"Float conversion: {float_value}\")\n",
        "except ValueError:\n",
        "    print(\"Float conversion: Failed (invalid input)\")\n",
        "\n",
        "bool_value = bool(a)\n",
        "print(f\"Boolean conversion: {bool_value}\")"
      ],
      "metadata": {
        "id": "4bSfpFmmDCEy",
        "outputId": "f3dc2116-7092-4a56-80b3-b85ef92beb5b",
        "colab": {
          "base_uri": "https://localhost:8080/"
        }
      },
      "execution_count": 20,
      "outputs": [
        {
          "output_type": "stream",
          "name": "stdout",
          "text": [
            "Enter a value: 1\n",
            "\n",
            "Type Conversion Results:\n",
            "Integer conversion: 1\n",
            "Float conversion: 1.0\n",
            "Boolean conversion: True\n"
          ]
        }
      ]
    },
    {
      "cell_type": "code",
      "source": [
        "# 10. Write code to demonstrate type casting with list elements.\n",
        "str_list = [\"1\", \"2\", \"3\", \"4.5\", \"5.6\"]\n",
        "\n",
        "print(\"Original list (strings):\", str_list)\n",
        "\n",
        "int_list = []\n",
        "for item in str_list:\n",
        "    try:\n",
        "        int_list.append(int(float(item)))\n",
        "    except ValueError:\n",
        "        int_list.append(None)\n",
        "\n",
        "print(\"Converted to integers:\", int_list)\n",
        "\n",
        "float_list = []\n",
        "for item in str_list:\n",
        "    try:\n",
        "        float_list.append(float(item))\n",
        "    except ValueError:\n",
        "        float_list.append(None)\n",
        "\n",
        "print(\"Converted to floats:\", float_list)\n",
        "\n",
        "bool_list = [bool(item) for item in str_list]\n",
        "print(\"Converted to booleans:\", bool_list)"
      ],
      "metadata": {
        "id": "LY2XGa0WEAiy",
        "outputId": "676ab5e7-f854-4d77-e254-97b14f3cc758",
        "colab": {
          "base_uri": "https://localhost:8080/"
        }
      },
      "execution_count": 21,
      "outputs": [
        {
          "output_type": "stream",
          "name": "stdout",
          "text": [
            "Original list (strings): ['1', '2', '3', '4.5', '5.6']\n",
            "Converted to integers: [1, 2, 3, 4, 5]\n",
            "Converted to floats: [1.0, 2.0, 3.0, 4.5, 5.6]\n",
            "Converted to booleans: [True, True, True, True, True]\n"
          ]
        }
      ]
    },
    {
      "cell_type": "code",
      "source": [
        "# 11. Write a program that checks if a number is positive, negative, or zero.\n",
        "a = int(input(\"Enter a number to check = \"))\n",
        "if (a == 0):\n",
        "  print(\"Given number is Zero\")\n",
        "elif (a > 0):\n",
        "  print(\"Given number is Positive\")\n",
        "else:\n",
        "  print(\"Given number is negative\")"
      ],
      "metadata": {
        "id": "yZCzLJxbEqpb",
        "outputId": "13b961b3-70e4-4c35-ec19-0cc3608d37ff",
        "colab": {
          "base_uri": "https://localhost:8080/"
        }
      },
      "execution_count": 22,
      "outputs": [
        {
          "output_type": "stream",
          "name": "stdout",
          "text": [
            "Enter a number to check = -25\n",
            "Given number is negative\n"
          ]
        }
      ]
    },
    {
      "cell_type": "code",
      "source": [
        "# 12. Write a for loop to print numbers from 1 to 10.\n",
        "for i in range(1,11):\n",
        "  print(i)"
      ],
      "metadata": {
        "id": "K-lhyMTtFoBB",
        "outputId": "df8f519f-e018-41bb-977c-cc8eb268bab9",
        "colab": {
          "base_uri": "https://localhost:8080/"
        }
      },
      "execution_count": 24,
      "outputs": [
        {
          "output_type": "stream",
          "name": "stdout",
          "text": [
            "1\n",
            "2\n",
            "3\n",
            "4\n",
            "5\n",
            "6\n",
            "7\n",
            "8\n",
            "9\n",
            "10\n"
          ]
        }
      ]
    },
    {
      "cell_type": "code",
      "source": [
        "# 13. Write a Python program to find the sum of all even numbers between 1 and 50.\n",
        "num = 0\n",
        "for i in range(1,51):\n",
        "  if (i % 2 == 0):\n",
        "    num += i\n",
        "print(\"sum of all even number between 1 and 50: \", num)"
      ],
      "metadata": {
        "id": "dDfHea45GOs3",
        "outputId": "2e8bde09-656a-4593-e700-3cf893a50d16",
        "colab": {
          "base_uri": "https://localhost:8080/"
        }
      },
      "execution_count": 26,
      "outputs": [
        {
          "output_type": "stream",
          "name": "stdout",
          "text": [
            "sum of all even number between 1 and 50:  650\n"
          ]
        }
      ]
    },
    {
      "cell_type": "code",
      "source": [
        "# 14. Write a program to reverse a string using a while loop.\n",
        "og_str = input(\"Enter a string: \")\n",
        "\n",
        "rev_str = \"\"\n",
        "index = len(og_str) - 1\n",
        "\n",
        "while index >= 0:\n",
        "    rev_str += og_str[index]\n",
        "    index -= 1\n",
        "\n",
        "print(\"Reversed string:\", rev_str)"
      ],
      "metadata": {
        "id": "UU2ou3ELGx7e",
        "outputId": "1dca7a4e-96c5-422d-f9dc-7f07569c2071",
        "colab": {
          "base_uri": "https://localhost:8080/"
        }
      },
      "execution_count": 27,
      "outputs": [
        {
          "output_type": "stream",
          "name": "stdout",
          "text": [
            "Enter a string: Hello\n",
            "Reversed string: olleH\n"
          ]
        }
      ]
    },
    {
      "cell_type": "code",
      "source": [
        "# 15. Write a Python program to calculate the factorial of a number provided by the user using a while loop.\n",
        "num = int(input(\"Enter a number: \"))\n",
        "if (num < 0):\n",
        "    print(\"Factorial is not defined for negative numbers.\")\n",
        "else:\n",
        "    factorial = 1\n",
        "    i = 1\n",
        "    while i <= num:\n",
        "        factorial *= i\n",
        "        i += 1\n",
        "    print(f\"The factorial of {num} is: {factorial}\")"
      ],
      "metadata": {
        "id": "lcvFzZ3WIrAC",
        "outputId": "4438a16c-0cfe-442c-82ac-8d30434040a3",
        "colab": {
          "base_uri": "https://localhost:8080/"
        }
      },
      "execution_count": 30,
      "outputs": [
        {
          "output_type": "stream",
          "name": "stdout",
          "text": [
            "Enter a number: 5\n",
            "The factorial of 5 is: 120\n"
          ]
        }
      ]
    }
  ]
}