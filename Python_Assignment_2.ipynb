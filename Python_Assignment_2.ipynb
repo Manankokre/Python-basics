{
  "nbformat": 4,
  "nbformat_minor": 0,
  "metadata": {
    "colab": {
      "provenance": []
    },
    "kernelspec": {
      "name": "python3",
      "display_name": "Python 3"
    },
    "language_info": {
      "name": "python"
    }
  },
  "cells": [
    {
      "cell_type": "markdown",
      "source": [
        "# **Python Assignment 2 - Data Structure**\n",
        "1. What are data structures, and why are they important?\n",
        "  - Data structures are techniques for organizing and storing data in computers. They are important because they:\n",
        "  Make data access faster\n",
        "  Improve memory usage\n",
        "  Help solve complex problems easily\n",
        "  Examples: List, Tuple, Set, Dictionary, Tree, Graph.\n",
        "2.  Explain the difference between mutable and immutable data types with examples.\n",
        "  - Mutable → Can be changed after creation\n",
        "  Example: list, set, dict.\n",
        "  Immutable → Cannot be changed once created\n",
        "  Example: string, tuple, int\n",
        "  This affects performance and memory usage.\n",
        "3. What are the main differences between lists and tuples in Python?\n",
        " - lists and tuples both store collections of data, but differ in mutability, performance and memory usage. Lists are mutable, allowing modifications, iteration over lists is time-consuming, lists are more prone to unexpected changes and errors, while tuples are immutable, iterations over tuple is faster, Tuples are more suitable for accessing elements efficiently, Tuples, being immutable are less error prone.\n",
        "4. Describe how dictionaries store data.\n",
        " - Dictionaries store data in key value pairs using a hash table. Example: {\"name\": \"Manan\"} → key = name, value = Manan. Keys must be unique and help fast searching.\n",
        "5. Why might you use a set instead of a list in Python?\n",
        " - Because sets Remove duplicates automatically and Provide faster membership checking.\n",
        "6. What is a string in Python, and how is it different from a list?\n",
        " - String sequence of characters like \"Hello\", Strings are immutable and while lists are mutable and allow different data types.\n",
        "7. How do tuples ensure data integrity?\n",
        " - Tuples cannot be modified after creation. So important data stays safe and unchanged, preventing accidental editing.\n",
        "8. What is a hash table and how does it relate to dictionaries?\n",
        " - A hash table uses hash functions to map keys to values quickly. Python dictionaries are implemented using hash tables, making lookups fast.\n",
        "9. Can lists contain different data types?\n",
        " - Yes\n",
        " Example: [10, \"Apple\", 12.5, True]. Lists are flexible and used for mixed data.\n",
        "10. Why are strings immutable?\n",
        " - It makes programs faster and more secure. Prevents accidental changes to text shared between variables.\n",
        "11. What advantages do dictionaries offer over lists for certain tasks?\n",
        " - Fast access using keys no need to scan entire data and Better structure for labeled information.\n",
        " Example: Student details → dictionary is better than list\n",
        "12. Describe a scenario where using a tuple would be preferable over a list.\n",
        " - When data should not change:\n",
        " Example: Days of the week, Latitude & longitude, Roll numbers assigned once, Tuples guarantee data stability.\n",
        "13. How do sets handle duplicate values in Python?\n",
        " - Sets remove duplicates automatically. Example: {1,1,2,3} becomes {1,2,3}\n",
        "14.  How does the “in” keyword work differently for lists and dictionaries?\n",
        " - In a list → checks all elements. In a dictionary → checks only keys\n",
        " Example: \"age\" in {\"age\": 20} True\n",
        " 20 in {\"age\": 20} False\n",
        "15. Can you modify the elements of a tuple? Explain why or why not.\n",
        " - No. becouse Tuples are immutable; their elements can't be added, removed, or changed.\n",
        "16. What is a nested dictionary, and give an example of its use case?\n",
        " - A nested dictionary is a dictionary that contains another dictionary as a value. It helps organize complex or grouped data, like student details or product info in a clean and structured way. Example:\n",
        " student = {\n",
        "  \"name\": \"Aman\",\n",
        "  \"marks\": {\"math\": 90, \"science\": 88}\n",
        "  }\n",
        "17.  Describe the time complexity of accessing elements in a dictionary?\n",
        " - O(1) — almost instant because it uses hashing. Python dictionaries provide a fast and efficient way to store and retrieve data using key value pair so understanding the time complexities of dictionary operations is very important for optimizing performance in our programs.\n",
        "18. In what situations are lists preferred over dictionaries?\n",
        " - When you just need ordered data or don't need keys-like a list of names.\n",
        "19. Why are dictionaries considered unordered, and how does that affect data retrieval?\n",
        " - Keys are placed according to their hash values, not sequence. Retrieval is by key, so order doesn't affect how you get data. A dictionary is often referred to as an unordered collection of objects because the elements within a dictionary are not arranged in a specific order. In other words, the items in a dictionary do not have an inherent positional index like they do in a list or an array.\n",
        "20. Explain the difference between a list and a dictionary in terms of data retrieval.\n",
        " - Lists and Dictionaries in Python are inbuilt data structures that are used to store data. Lists are linear in nature whereas dictionaries stored the data in key-value pairs. In this article, we will see the difference between the two and find out the time complexities and space complexities which arises when we try to store data and try to perform certain operations on them."
      ],
      "metadata": {
        "id": "zFwnnWtHvZqR"
      }
    },
    {
      "cell_type": "code",
      "source": [
        "# Practical Questions\n",
        "# 1. Write a code to create a string with your name and print it.\n",
        "name = \"Manan\"\n",
        "print(name)"
      ],
      "metadata": {
        "colab": {
          "base_uri": "https://localhost:8080/"
        },
        "id": "TyYnfEKI7Bjs",
        "outputId": "fbef2be1-64a0-49f7-d935-4e42f7e347d8"
      },
      "execution_count": null,
      "outputs": [
        {
          "output_type": "stream",
          "name": "stdout",
          "text": [
            "Manan\n"
          ]
        }
      ]
    },
    {
      "cell_type": "code",
      "execution_count": null,
      "metadata": {
        "colab": {
          "base_uri": "https://localhost:8080/"
        },
        "id": "g4vJ4PoLu6W7",
        "outputId": "3f8cd621-5fa5-4be2-957c-4c196c29b567"
      },
      "outputs": [
        {
          "output_type": "stream",
          "name": "stdout",
          "text": [
            "11\n"
          ]
        }
      ],
      "source": [
        "# 2. Write a code to find the length of the string \"Hello World\"\n",
        "a = \"Hello world\"\n",
        "print(len(a))"
      ]
    },
    {
      "cell_type": "code",
      "source": [
        "# 3. Write a code to slice the first 3 characters from the string \"Python Programming\"\n",
        "text = \"Python Programming\"\n",
        "y = text[:3]\n",
        "print(y)"
      ],
      "metadata": {
        "colab": {
          "base_uri": "https://localhost:8080/"
        },
        "id": "bQda2E9V-o-0",
        "outputId": "022625b2-3715-4dd0-d3c6-e81d2b9976e4"
      },
      "execution_count": null,
      "outputs": [
        {
          "output_type": "stream",
          "name": "stdout",
          "text": [
            "Pyt\n"
          ]
        }
      ]
    },
    {
      "cell_type": "code",
      "source": [
        "# 4. Write a code to convert the string \"hello\" to uppercase\n",
        "text = \"hello\"\n",
        "upper = text.upper()\n",
        "print(upper)"
      ],
      "metadata": {
        "colab": {
          "base_uri": "https://localhost:8080/"
        },
        "id": "120Mz8zP_CXN",
        "outputId": "6d63f1e9-3c48-41f9-bfcf-2d3b457ef273"
      },
      "execution_count": null,
      "outputs": [
        {
          "output_type": "stream",
          "name": "stdout",
          "text": [
            "HELLO\n"
          ]
        }
      ]
    },
    {
      "cell_type": "code",
      "source": [
        "# 5.  Write a code to replace the word \"apple\" with \"orange\" in the string \"I like apple\"\n",
        "text = \"I like apple\"\n",
        "new_text = text.replace(\"apple\", \"orange\")\n",
        "print(new_text)"
      ],
      "metadata": {
        "colab": {
          "base_uri": "https://localhost:8080/"
        },
        "id": "hc-n9629_UC9",
        "outputId": "64aa71d6-f100-4eb8-862d-f0c7a38645ef"
      },
      "execution_count": null,
      "outputs": [
        {
          "output_type": "stream",
          "name": "stdout",
          "text": [
            "I like orange\n"
          ]
        }
      ]
    },
    {
      "cell_type": "code",
      "source": [
        "# 6. Write a code to create a list with numbers 1 to 5 and print it\n",
        "list1 = [1,2,3,4,5]\n",
        "print(list1)"
      ],
      "metadata": {
        "colab": {
          "base_uri": "https://localhost:8080/"
        },
        "id": "Y-WnJWxj_kiq",
        "outputId": "45a84721-64db-4de3-9379-178f485a4f34"
      },
      "execution_count": null,
      "outputs": [
        {
          "output_type": "stream",
          "name": "stdout",
          "text": [
            "[1, 2, 3, 4, 5]\n"
          ]
        }
      ]
    },
    {
      "cell_type": "code",
      "source": [
        "# 7. Write a code to append the number 10 to the list [1, 2, 3, 4]\n",
        "list1 = [1,2,3,4]\n",
        "list1.append(10)\n",
        "print(list1)"
      ],
      "metadata": {
        "colab": {
          "base_uri": "https://localhost:8080/"
        },
        "id": "JfCrehYG_5sM",
        "outputId": "f92e865f-cfdd-4990-9ba6-ac1e0484eb26"
      },
      "execution_count": null,
      "outputs": [
        {
          "output_type": "stream",
          "name": "stdout",
          "text": [
            "[1, 2, 3, 4, 10]\n"
          ]
        }
      ]
    },
    {
      "cell_type": "code",
      "source": [
        "# 8. Write a code to remove the number 3 from the list [1, 2, 3, 4, 5]\n",
        "list1 = [1,2,3,4,5]\n",
        "list1.remove(3)\n",
        "print(list1)"
      ],
      "metadata": {
        "colab": {
          "base_uri": "https://localhost:8080/"
        },
        "id": "y_hUON88AOV2",
        "outputId": "612daa39-03ef-41d1-fb62-64a565198663"
      },
      "execution_count": null,
      "outputs": [
        {
          "output_type": "stream",
          "name": "stdout",
          "text": [
            "[1, 2, 4, 5]\n"
          ]
        }
      ]
    },
    {
      "cell_type": "code",
      "source": [
        "# 9. Write a code to access the second element in the list ['a', 'b', 'c', 'd']\n",
        "letters = ['a', 'b', 'c', 'd']\n",
        "second_element = letters[1]\n",
        "print(second_element)"
      ],
      "metadata": {
        "colab": {
          "base_uri": "https://localhost:8080/"
        },
        "id": "qrypCYnSAkLO",
        "outputId": "a8a806c4-b951-499b-f745-41e58b801519"
      },
      "execution_count": null,
      "outputs": [
        {
          "output_type": "stream",
          "name": "stdout",
          "text": [
            "b\n"
          ]
        }
      ]
    },
    {
      "cell_type": "code",
      "source": [
        "# 10. Write a code to reverse the list [10, 20, 30, 40, 50].\n",
        "list1 = [10, 20, 30, 40, 50]\n",
        "list1.reverse()\n",
        "print(list1)"
      ],
      "metadata": {
        "colab": {
          "base_uri": "https://localhost:8080/"
        },
        "id": "shU_pqMbBZg3",
        "outputId": "dcb920ab-5cd9-432f-aa71-3ae45d7b7042"
      },
      "execution_count": null,
      "outputs": [
        {
          "output_type": "stream",
          "name": "stdout",
          "text": [
            "[50, 40, 30, 20, 10]\n"
          ]
        }
      ]
    },
    {
      "cell_type": "code",
      "source": [
        "# 11.  Write a code to create a tuple with the elements 100, 200, 300 and print it.\n",
        "t1 = (100, 200, 300)\n",
        "print(t1)\n",
        "print(type(t1))"
      ],
      "metadata": {
        "colab": {
          "base_uri": "https://localhost:8080/"
        },
        "id": "OzLGwfnpBwke",
        "outputId": "7b289137-3e16-4cdb-8d6b-c0b715f77479"
      },
      "execution_count": null,
      "outputs": [
        {
          "output_type": "stream",
          "name": "stdout",
          "text": [
            "(100, 200, 300)\n",
            "<class 'tuple'>\n"
          ]
        }
      ]
    },
    {
      "cell_type": "code",
      "source": [
        "# 12. Write a code to access the second-to-last element of the tuple ('red', 'green', 'blue', 'yellow').\n",
        "t1 = ('red', 'green', 'blue', 'yellow')\n",
        "a = t1[1:]\n",
        "print(a)"
      ],
      "metadata": {
        "colab": {
          "base_uri": "https://localhost:8080/"
        },
        "id": "7saEZw8FCFem",
        "outputId": "377a2ce7-25ce-425a-ad7d-0c7b338e1e04"
      },
      "execution_count": null,
      "outputs": [
        {
          "output_type": "stream",
          "name": "stdout",
          "text": [
            "('green', 'blue', 'yellow')\n"
          ]
        }
      ]
    },
    {
      "cell_type": "code",
      "source": [
        "# 13. Write a code to find the minimum number in the tuple (10, 20, 5, 15).\n",
        "t1 = (10, 20, 5, 15)\n",
        "minimum = min(t1)\n",
        "print(minimum)"
      ],
      "metadata": {
        "colab": {
          "base_uri": "https://localhost:8080/"
        },
        "id": "FR3_IPMcCuMI",
        "outputId": "0eae87f9-29c2-4534-9332-e596b8fde7e2"
      },
      "execution_count": null,
      "outputs": [
        {
          "output_type": "stream",
          "name": "stdout",
          "text": [
            "5\n"
          ]
        }
      ]
    },
    {
      "cell_type": "code",
      "source": [
        "# 14. Write a code to find the index of the element \"cat\" in the tuple ('dog', 'cat', 'rabbit').\n",
        "animals = ('dog', 'cat', 'rabbit')\n",
        "index_of_cat = animals.index(\"cat\")\n",
        "print(index_of_cat)"
      ],
      "metadata": {
        "colab": {
          "base_uri": "https://localhost:8080/"
        },
        "id": "efWHNWrLDJo4",
        "outputId": "5df57a8a-58c4-4717-b61b-449d21e693af"
      },
      "execution_count": null,
      "outputs": [
        {
          "output_type": "stream",
          "name": "stdout",
          "text": [
            "1\n"
          ]
        }
      ]
    },
    {
      "cell_type": "code",
      "source": [
        "# 15. Write a code to create a tuple containing three different fruits and check if \"kiwi\" is in it.\n",
        "fruits = (\"apple\", \"banana\", \"mango\")\n",
        "if \"kiwi\" in fruits:\n",
        "    print(\"Kiwi is in the tuple\")\n",
        "else:\n",
        "    print(\"Kiwi is not in the tuple\")"
      ],
      "metadata": {
        "colab": {
          "base_uri": "https://localhost:8080/"
        },
        "id": "Ejc4VgiFDWQj",
        "outputId": "ca0625a3-f5f8-4df3-9e66-122e89a151fd"
      },
      "execution_count": null,
      "outputs": [
        {
          "output_type": "stream",
          "name": "stdout",
          "text": [
            "Kiwi is not in the tuple\n"
          ]
        }
      ]
    },
    {
      "cell_type": "code",
      "source": [
        "# 16. Write a code to create a set with the elements 'a', 'b', 'c' and print it.\n",
        "my_set = {'a', 'b', 'c'}\n",
        "print(my_set)"
      ],
      "metadata": {
        "colab": {
          "base_uri": "https://localhost:8080/"
        },
        "id": "cbophhReD4-j",
        "outputId": "1ef0d77e-25f7-4830-b38d-6c05408b529a"
      },
      "execution_count": null,
      "outputs": [
        {
          "output_type": "stream",
          "name": "stdout",
          "text": [
            "{'a', 'c', 'b'}\n"
          ]
        }
      ]
    },
    {
      "cell_type": "code",
      "source": [
        "# 17. Write a code to clear all elements from the set {1, 2, 3, 4, 5}.\n",
        "set1 = {1, 2, 3, 4, 5}\n",
        "set1.clear()\n",
        "print(set1)"
      ],
      "metadata": {
        "colab": {
          "base_uri": "https://localhost:8080/"
        },
        "id": "8zR1e7rXESCk",
        "outputId": "a32a89ad-c8b5-4362-c2c4-e8bb6f06964d"
      },
      "execution_count": null,
      "outputs": [
        {
          "output_type": "stream",
          "name": "stdout",
          "text": [
            "set()\n"
          ]
        }
      ]
    },
    {
      "cell_type": "code",
      "source": [
        "# 18. Write a code to remove the element 4 from the set {1, 2, 3, 4}.\n",
        "set1 = {1, 2, 3, 4}\n",
        "set1.remove(4)\n",
        "print(set1)"
      ],
      "metadata": {
        "colab": {
          "base_uri": "https://localhost:8080/"
        },
        "id": "qFJxB379Ew7Z",
        "outputId": "ee7c8852-12dc-4248-ff32-a5cf4277d5cc"
      },
      "execution_count": null,
      "outputs": [
        {
          "output_type": "stream",
          "name": "stdout",
          "text": [
            "{1, 2, 3}\n"
          ]
        }
      ]
    },
    {
      "cell_type": "code",
      "source": [
        "# 19. Write a code to find the union of two sets {1, 2, 3} and {3, 4, 5}.\n",
        "set1 = {1, 2, 3}\n",
        "set2 = {3, 4, 5}\n",
        "union_set = set1.union(set2)\n",
        "print(union_set)"
      ],
      "metadata": {
        "colab": {
          "base_uri": "https://localhost:8080/"
        },
        "id": "QdTHyzhRFB7S",
        "outputId": "2bec25d3-851b-4070-8144-7242405507e7"
      },
      "execution_count": null,
      "outputs": [
        {
          "output_type": "stream",
          "name": "stdout",
          "text": [
            "{1, 2, 3, 4, 5}\n"
          ]
        }
      ]
    },
    {
      "cell_type": "code",
      "source": [
        "# 20. Write a code to find the intersection of two sets {1, 2, 3} and {2, 3, 4}.\n",
        "set1 = {1, 2, 3}\n",
        "set2 = {2, 3, 4}\n",
        "intersection_set = set1.intersection(set2)\n",
        "print(intersection_set)"
      ],
      "metadata": {
        "colab": {
          "base_uri": "https://localhost:8080/"
        },
        "id": "sVqYJVpVFNVG",
        "outputId": "86b84177-101a-4abb-aa60-697e74d61e1a"
      },
      "execution_count": null,
      "outputs": [
        {
          "output_type": "stream",
          "name": "stdout",
          "text": [
            "{2, 3}\n"
          ]
        }
      ]
    },
    {
      "cell_type": "code",
      "source": [
        "# 21. Write a code to create a dictionary with the keys \"name\", \"age\", and \"city\", and print it\n",
        "person = {\"name\": \"Manan\", \"age\": 18, \"city\": \"Indore\"}\n",
        "print(person)"
      ],
      "metadata": {
        "colab": {
          "base_uri": "https://localhost:8080/"
        },
        "id": "KwBbUdz6Fs86",
        "outputId": "87c28e0c-3d99-4233-861a-7df7ef841975"
      },
      "execution_count": null,
      "outputs": [
        {
          "output_type": "stream",
          "name": "stdout",
          "text": [
            "{'name': 'Manan', 'age': 18, 'city': 'Indore'}\n"
          ]
        }
      ]
    },
    {
      "cell_type": "code",
      "source": [
        "# 22. Write a code to add a new key-value pair \"country\": \"USA\" to the dictionary {'name': 'John', 'age': 25}.\n",
        "person = {'name': 'John', 'age': 25}\n",
        "person['country'] = 'USA'\n",
        "print(person)"
      ],
      "metadata": {
        "colab": {
          "base_uri": "https://localhost:8080/"
        },
        "id": "mzjY5HDbGB-S",
        "outputId": "085d6726-689a-4be4-ca9c-3b1bbadd502a"
      },
      "execution_count": null,
      "outputs": [
        {
          "output_type": "stream",
          "name": "stdout",
          "text": [
            "{'name': 'John', 'age': 25, 'country': 'USA'}\n"
          ]
        }
      ]
    },
    {
      "cell_type": "code",
      "source": [
        "# 23. Write a code to access the value associated with the key \"name\" in the dictionary {'name': 'Alice', 'age': 30}.\n",
        "person = {'name': 'Alice', 'age': 30}\n",
        "name_value = person['name']\n",
        "print(name_value)"
      ],
      "metadata": {
        "colab": {
          "base_uri": "https://localhost:8080/"
        },
        "id": "-GyC-z0dGxOV",
        "outputId": "2418d727-72c7-4cc5-8d54-610302620994"
      },
      "execution_count": null,
      "outputs": [
        {
          "output_type": "stream",
          "name": "stdout",
          "text": [
            "Alice\n"
          ]
        }
      ]
    },
    {
      "cell_type": "code",
      "source": [
        "# 24. Write a code to remove the key \"age\" from the dictionary {'name': 'Bob', 'age': 22, 'city': 'New York'}.\n",
        "person = {'name': 'Bob', 'age': 22, 'city': 'New York'}\n",
        "person.pop('age')\n",
        "print(person)"
      ],
      "metadata": {
        "id": "ZVB0ZcdLG_30",
        "colab": {
          "base_uri": "https://localhost:8080/"
        },
        "outputId": "a5990bc2-c101-4322-95b8-8dfbcfef4f2c"
      },
      "execution_count": 1,
      "outputs": [
        {
          "output_type": "stream",
          "name": "stdout",
          "text": [
            "{'name': 'Bob', 'city': 'New York'}\n"
          ]
        }
      ]
    },
    {
      "cell_type": "code",
      "source": [
        "# 25. Write a code to check if the key \"city\" exists in the dictionary {'name': 'Alice', 'city': 'Paris'}.\n",
        "person = {'name': 'Alice', 'city': 'Paris'}\n",
        "if 'city' in person:\n",
        "    print(\"Key exists\")\n",
        "else:\n",
        "    print(\"Key does not exist\")"
      ],
      "metadata": {
        "colab": {
          "base_uri": "https://localhost:8080/"
        },
        "id": "05EoX8eFXGld",
        "outputId": "5c3dd89a-280b-46b5-ef2d-946864139028"
      },
      "execution_count": 2,
      "outputs": [
        {
          "output_type": "stream",
          "name": "stdout",
          "text": [
            "Key exists\n"
          ]
        }
      ]
    },
    {
      "cell_type": "code",
      "source": [
        "# 26. Write a code to create a list, a tuple, and a dictionary, and print them all.\n",
        "my_list = [1, 2, 3]\n",
        "my_tuple = (\"apple\", \"banana\", \"cherry\")\n",
        "my_dict = {\"name\": \"John\", \"age\": 25}\n",
        "print(\"List:\", my_list)\n",
        "print(\"Tuple:\", my_tuple)\n",
        "print(\"Dictionary:\", my_dict)"
      ],
      "metadata": {
        "colab": {
          "base_uri": "https://localhost:8080/"
        },
        "id": "gYtMaJWTX-kQ",
        "outputId": "16887ff8-0def-481a-a6d7-3f395b3604b4"
      },
      "execution_count": 3,
      "outputs": [
        {
          "output_type": "stream",
          "name": "stdout",
          "text": [
            "List: [1, 2, 3]\n",
            "Tuple: ('apple', 'banana', 'cherry')\n",
            "Dictionary: {'name': 'John', 'age': 25}\n"
          ]
        }
      ]
    },
    {
      "cell_type": "code",
      "source": [
        "# 27.  Write a code to create a list of 5 random numbers between 1 and 100, sort it in ascending order, and print the result.(replaced)\n",
        "list1 = [60, 40, 80, 20, 100]\n",
        "list1.sort()\n",
        "print(list1)"
      ],
      "metadata": {
        "colab": {
          "base_uri": "https://localhost:8080/"
        },
        "id": "cWihk0tTYPR3",
        "outputId": "5e942c4d-7436-4579-fe6b-d29b4374f6e8"
      },
      "execution_count": 12,
      "outputs": [
        {
          "output_type": "stream",
          "name": "stdout",
          "text": [
            "[20, 40, 60, 80, 100]\n"
          ]
        }
      ]
    },
    {
      "cell_type": "code",
      "source": [
        "# 28. Write a code to create a list with strings and print the element at the third index.\n",
        "list1 = [\"apple\", \"banana\", \"cherry\", \"Indore\", \"Mumbai\"]\n",
        "print(list1[2])"
      ],
      "metadata": {
        "colab": {
          "base_uri": "https://localhost:8080/"
        },
        "id": "RGTRlM89ZhK7",
        "outputId": "fe8394b2-67ac-4f5a-b790-bae1d6a18b82"
      },
      "execution_count": 14,
      "outputs": [
        {
          "output_type": "stream",
          "name": "stdout",
          "text": [
            "cherry\n"
          ]
        }
      ]
    },
    {
      "cell_type": "code",
      "source": [
        "# 29. Write a code to combine two dictionaries into one and print the result.\n",
        "dict1 = {\"name\": \"John\", \"age\": 25}\n",
        "dict2 = {\"city\": \"New York\", \"country\": \"USA\"}\n",
        "combined_dict = {**dict1, **dict2}\n",
        "print(combined_dict)"
      ],
      "metadata": {
        "colab": {
          "base_uri": "https://localhost:8080/"
        },
        "id": "5nT-l92sadUn",
        "outputId": "e310b8fd-fed7-4317-881c-bd2183606980"
      },
      "execution_count": 15,
      "outputs": [
        {
          "output_type": "stream",
          "name": "stdout",
          "text": [
            "{'name': 'John', 'age': 25, 'city': 'New York', 'country': 'USA'}\n"
          ]
        }
      ]
    },
    {
      "cell_type": "code",
      "source": [
        "# 30. Write a code to convert a list of strings into a set.\n",
        "list1 = [\"apple\", \"banana\", \"cherry\", \"apple\"]  # list with duplicate\n",
        "set1 = set(list1)\n",
        "print(set1)"
      ],
      "metadata": {
        "colab": {
          "base_uri": "https://localhost:8080/"
        },
        "id": "kumCPUoqazWW",
        "outputId": "d913fda5-af79-4242-be1c-e75a3e90329f"
      },
      "execution_count": 16,
      "outputs": [
        {
          "output_type": "stream",
          "name": "stdout",
          "text": [
            "{'apple', 'banana', 'cherry'}\n"
          ]
        }
      ]
    }
  ]
}